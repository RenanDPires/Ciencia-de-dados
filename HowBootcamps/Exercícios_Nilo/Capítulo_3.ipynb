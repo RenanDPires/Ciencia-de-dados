{
 "cells": [
  {
   "cell_type": "markdown",
   "id": "e616eddd",
   "metadata": {},
   "source": [
    "# 1- Diga o tipo numérico correspondente\n",
    "     5     ○ inteiro ○ ponto flutuante\n",
    "    5.0    ○ inteiro ○ ponto flutuante\n",
    "    4.3    ○ inteiro ○ ponto flutuante\n",
    "    -2     ○ inteiro ○ ponto flutuante\n",
    "    100    ○ inteiro ○ ponto flutuante\n",
    "    1.333  ○ inteiro ○ ponto flutuante"
   ]
  },
  {
   "cell_type": "markdown",
   "id": "522d6d49",
   "metadata": {},
   "source": [
    "Inteiro\n",
    "Flutuante\n",
    "Flutuante\n",
    "Inteiro\n",
    "Inteiro\n",
    "Flutuante"
   ]
  },
  {
   "cell_type": "markdown",
   "id": "ee563aca",
   "metadata": {},
   "source": [
    "# 2- Complete a tabela com o resultado da expressão booleana correspondente Considere a = 4, b = 10, c = 5.0, d = 1 e f = 5"
   ]
  },
  {
   "cell_type": "markdown",
   "id": "03d5977b",
   "metadata": {},
   "source": [
    "Expressão Resultado        Expressão Resultado\n",
    "a == c    ○ True ○ False   b > a     ○ True ○ False\n",
    "a < b     ○ True ○ False   c >= f    ○ True ○ False\n",
    "d > b     ○ True ○ False   f >= c    ○ True ○ False\n",
    "c != f    ○ True ○ False   c <= c    ○ True ○ False\n",
    "a == b    ○ True ○ False   c <= f    ○ True ○ False\n",
    "c < d     ○ True ○ False"
   ]
  },
  {
   "cell_type": "markdown",
   "id": "71aaa64d",
   "metadata": {},
   "source": [
    "F; T; F; F; F; F; T; T; T; T; T;"
   ]
  },
  {
   "cell_type": "markdown",
   "id": "d14f5232",
   "metadata": {},
   "source": [
    "# 3- Complete a tabela a seguir utilizando a = True, b = False e c = True"
   ]
  },
  {
   "cell_type": "markdown",
   "id": "b0395f9c",
   "metadata": {},
   "source": [
    "Expressão Resultado         Expressão Resultado\n",
    "a and a   ○ True ○ False    a or c    ○ True ○ False\n",
    "b and b   ○ True ○ False    b or c    ○ True ○ False\n",
    "not c     ○ True ○ False    c or a    ○ True ○ False\n",
    "not b     ○ True ○ False    c or b    ○ True ○ False\n",
    "not a     ○ True ○ False    c or c    ○ True ○ False\n",
    "a and b   ○ True ○ False    b or b    ○ True ○ False\n",
    "b and c   ○ True ○ False"
   ]
  },
  {
   "cell_type": "markdown",
   "id": "8ffce012",
   "metadata": {},
   "source": [
    "T; F; F; T; F; F; F; T; T; T; T; T; F"
   ]
  },
  {
   "cell_type": "markdown",
   "id": "e95eebe4",
   "metadata": {},
   "source": [
    "# 4- Crie uma expressão para determinar se uma pessoa deve ou não pagar imposto"
   ]
  },
  {
   "cell_type": "markdown",
   "id": "e937d768",
   "metadata": {},
   "source": [
    "Escreva uma expressão para determinar se uma pessoa deve ou não pagar imposto. Considere que pagam imposto pessoas cujo salário é maior que R$ 1.200,00."
   ]
  },
  {
   "cell_type": "code",
   "execution_count": 1,
   "id": "28d788c0",
   "metadata": {},
   "outputs": [
    {
     "name": "stdout",
     "output_type": "stream",
     "text": [
      "Insira o valor do seu salário: 1000\n",
      "Você não precisa pagar imposto.\n"
     ]
    }
   ],
   "source": [
    "salario= float(input('Insira o valor do seu salário: '))\n",
    "\n",
    "if salario > 1200:\n",
    "    print('Você precisa pagar imposto.')\n",
    "else:\n",
    "    print('Você não precisa pagar imposto.')"
   ]
  },
  {
   "cell_type": "markdown",
   "id": "df0d715f",
   "metadata": {},
   "source": [
    "# 5- Resolva a expressão lógica para os dados da tabela"
   ]
  },
  {
   "cell_type": "markdown",
   "id": "16daca0f",
   "metadata": {},
   "source": [
    "A  B C     D      Resultado\n",
    "1  2 True  False\n",
    "10 3 False False\n",
    "5  1 True  True\n",
    "Resposta:"
   ]
  },
  {
   "cell_type": "markdown",
   "id": "959b5a25",
   "metadata": {},
   "source": [
    "F; F; T"
   ]
  },
  {
   "cell_type": "markdown",
   "id": "64ae49bc",
   "metadata": {},
   "source": [
    "# 6- Expressão para decidir se um aluno tem a média para passar de ano"
   ]
  },
  {
   "cell_type": "markdown",
   "id": "0072512a",
   "metadata": {},
   "source": [
    "Escreva uma expressão que será utilizada para decidir se um aluno foi ou não aprovado. Para ser aprovado, todas as médias do aluno devem ser maiores que 7. Considere que o aluno cursa apenas três matérias, e que a nota de cada uma está armazenada nas seguintes variáveis: matéria1, matéria2 e matéria3."
   ]
  },
  {
   "cell_type": "code",
   "execution_count": 2,
   "id": "593d90bf",
   "metadata": {},
   "outputs": [
    {
     "name": "stdout",
     "output_type": "stream",
     "text": [
      "Insira a nota da 1° matéria: 5\n",
      "Insira a nota da 2° matéria: 8\n",
      "Insira a nota da 3° matéria: 9\n",
      "Você não foi aprovado\n"
     ]
    }
   ],
   "source": [
    "materia1= float(input('Insira a nota da 1° matéria: '))\n",
    "materia2= float(input('Insira a nota da 2° matéria: '))\n",
    "materia3= float(input('Insira a nota da 3° matéria: '))\n",
    "\n",
    "if materia1 >= 7 and materia2 >= 7 and materia3 >= 7:\n",
    "    print('VOcê foi aprovado.')\n",
    "else:\n",
    "    print('Você não foi aprovado')"
   ]
  },
  {
   "cell_type": "markdown",
   "id": "ec0a2162",
   "metadata": {},
   "source": [
    "# 7- Faça um programa que peça dois números inteiros"
   ]
  },
  {
   "cell_type": "markdown",
   "id": "39300bd7",
   "metadata": {},
   "source": [
    "Faça um programa que peça dois números inteiros. Imprima a soma desses dois números na tela."
   ]
  },
  {
   "cell_type": "code",
   "execution_count": 3,
   "id": "e7175ee4",
   "metadata": {},
   "outputs": [
    {
     "name": "stdout",
     "output_type": "stream",
     "text": [
      "Insira o primeiro número: 5\n",
      "Insora o segundo número: 10\n",
      "A soma dos números é 15.0\n"
     ]
    }
   ],
   "source": [
    "a= float(input('Insira o primeiro número: '))\n",
    "b= float(input('Insora o segundo número: '))\n",
    "c= a + b\n",
    "\n",
    "print(f'A soma dos números é {c}')"
   ]
  },
  {
   "cell_type": "markdown",
   "id": "e25df0db",
   "metadata": {},
   "source": [
    "# 8- Escreva um programa que leia um valor em metros e o exiba convertido em milímetros"
   ]
  },
  {
   "cell_type": "markdown",
   "id": "0802bd5c",
   "metadata": {},
   "source": [
    "Escreva um programa que leia um valor em metros e o exiba convertido em milímetros."
   ]
  },
  {
   "cell_type": "code",
   "execution_count": 4,
   "id": "71c33886",
   "metadata": {},
   "outputs": [
    {
     "name": "stdout",
     "output_type": "stream",
     "text": [
      "Insira a distância em mettos: 50\n",
      "A distância convertida é 50000.0 mm.\n"
     ]
    }
   ],
   "source": [
    "metros= float(input('Insira a distância em mettos: '))\n",
    "\n",
    "milimetros= metros * 1000\n",
    "\n",
    "print(f'A distância convertida é {milimetros} mm.')"
   ]
  },
  {
   "cell_type": "markdown",
   "id": "3dc9f2db",
   "metadata": {},
   "source": [
    "# 9- Escreva um programa que leia a quantidade de dias, horas, minutos e segundos do usuário. Calcule o total em segundos"
   ]
  },
  {
   "cell_type": "markdown",
   "id": "2fcac731",
   "metadata": {},
   "source": [
    "Escreva um programa que leia a quantidade de dias, horas, minutos e segundos do usuário. Calcule o total em segundos."
   ]
  },
  {
   "cell_type": "code",
   "execution_count": 5,
   "id": "f7273714",
   "metadata": {},
   "outputs": [
    {
     "name": "stdout",
     "output_type": "stream",
     "text": [
      "Dias: 0\n",
      "Horas: 0\n",
      "Minutos: 3\n",
      "Segundos: 0\n",
      "O total em segundos é: 180\n"
     ]
    }
   ],
   "source": [
    "dias= int(input('Dias: '))\n",
    "horas= int(input('Horas: '))\n",
    "minutos= int(input('Minutos: '))\n",
    "segundos= int(input('Segundos: '))\n",
    "\n",
    "totalSegundos= segundos + (minutos*60) + (horas*60*60) + (dias*24*60*60)\n",
    "\n",
    "print(f'O total em segundos é: {totalSegundos}')"
   ]
  },
  {
   "cell_type": "markdown",
   "id": "87ff923c",
   "metadata": {},
   "source": [
    "# 10- Faça um programa que calcule o aumento de um salário"
   ]
  },
  {
   "cell_type": "markdown",
   "id": "c4b6863b",
   "metadata": {},
   "source": [
    "Faça um programa que calcule o aumento de um salário. Ele deve solicitar o valor do salário e a porcentagem do aumento. Exiba o valor do aumento e do novo salário."
   ]
  },
  {
   "cell_type": "code",
   "execution_count": 9,
   "id": "2ddd2f43",
   "metadata": {},
   "outputs": [
    {
     "name": "stdout",
     "output_type": "stream",
     "text": [
      "Insira seu salário atual: R$12\n",
      "Insira a porcentagem do seu aumento: 30\n",
      "Seu salário futuro é: R$15.60\n"
     ]
    }
   ],
   "source": [
    "salario= float(input('Insira seu salário atual: R$'))\n",
    "aumento= float(input('Insira a porcentagem do seu aumento: '))\n",
    "\n",
    "salarioFuturo= salario * (1+ aumento/100)\n",
    "\n",
    "print(f'Seu salário futuro é: R${salarioFuturo:.2f}')"
   ]
  },
  {
   "cell_type": "markdown",
   "id": "2404371a",
   "metadata": {},
   "source": [
    "# 11- Faça um programa que solicite o preço de uma mercadoria e o percentual de desconto"
   ]
  },
  {
   "cell_type": "markdown",
   "id": "334f29bc",
   "metadata": {},
   "source": [
    "Faça um programa que solicite o preço de uma mercadoria e o percentual de desconto. Exiba o valor do desconto e o preço a pagar."
   ]
  },
  {
   "cell_type": "code",
   "execution_count": 10,
   "id": "41a2557b",
   "metadata": {},
   "outputs": [
    {
     "name": "stdout",
     "output_type": "stream",
     "text": [
      "Insira o preco da mercadoria: R$12\n",
      "Insira o valor do desconto: 5\n",
      "O preço com desconto de 5.0% é R$11.40\n"
     ]
    }
   ],
   "source": [
    "preco= float(input('Insira o preco da mercadoria: R$'))\n",
    "desconto= float(input('Insira o valor do desconto: '))\n",
    "\n",
    "precoComDesconto= preco * (1-desconto/100)\n",
    "\n",
    "print(f'O preço com desconto de {desconto}% é R${precoComDesconto:.2f}')"
   ]
  },
  {
   "cell_type": "markdown",
   "id": "615ff05b",
   "metadata": {},
   "source": [
    "# 12- Escreva um programa que calcule o tempo de uma viagem de carro"
   ]
  },
  {
   "cell_type": "markdown",
   "id": "e589193c",
   "metadata": {},
   "source": [
    "Escreva um programa que calcule o tempo de uma viagem de carro. Pergunte a distância a percorrer e a velocidade média esperada para a viagem."
   ]
  },
  {
   "cell_type": "code",
   "execution_count": 12,
   "id": "4729cf65",
   "metadata": {},
   "outputs": [
    {
     "name": "stdout",
     "output_type": "stream",
     "text": [
      "Insira a distância a percorrer em km: 100\n",
      "Insira a velocidade média em km/h: 120\n",
      "O tempo até o destino é de 0.83 horas\n"
     ]
    }
   ],
   "source": [
    "distancia= float(input('Insira a distância a percorrer em km: '))\n",
    "velocidade= float(input('Insira a velocidade média em km/h: '))\n",
    "\n",
    "tempo= distancia/velocidade\n",
    "\n",
    "print(f'O tempo até o destino é de {tempo:.2f} horas')"
   ]
  },
  {
   "cell_type": "markdown",
   "id": "f4a7030b",
   "metadata": {},
   "source": [
    "# 13- Escreva um programa que converta uma temperatura digitada em °C em °F"
   ]
  },
  {
   "cell_type": "code",
   "execution_count": 13,
   "id": "7c5b6661",
   "metadata": {},
   "outputs": [
    {
     "name": "stdout",
     "output_type": "stream",
     "text": [
      "Insira a temperatura em °C: 25\n",
      "A temperatura conertida é 77.00°F\n"
     ]
    }
   ],
   "source": [
    "celsius= float(input('Insira a temperatura em °C: '))\n",
    "farenheit= ((9*celsius)/5)+32\n",
    "\n",
    "print(f'A temperatura conertida é {farenheit:.2f}°F')"
   ]
  },
  {
   "cell_type": "markdown",
   "id": "d54c8e4d",
   "metadata": {},
   "source": [
    "# 14- Escreva um programa que pergunte a quantidade de km percorridos por um carro alugado pelo usuário"
   ]
  },
  {
   "cell_type": "markdown",
   "id": "05d55fe6",
   "metadata": {},
   "source": [
    "Escreva um programa que pergunte a quantidade de km percorridos por um carro alugado pelo usuário, assim como a quantidade de dias pelos quais o carro foi alugado. Calcule o preço a pagar, sabendo que o carro custa R$ 60 por dia e R$ 0,15 por km rodado."
   ]
  },
  {
   "cell_type": "code",
   "execution_count": 18,
   "id": "e01fc5e1",
   "metadata": {},
   "outputs": [
    {
     "name": "stdout",
     "output_type": "stream",
     "text": [
      "Insira a quantidade de dias com o veículo: 10\n",
      "Insira a quantidade de km rodados com o veículo: 100\n",
      "O valor a pagar é R$600.00 pelos dias e R$15.00 pela kilometragem rodada.\n",
      "Total de R$615.00\n"
     ]
    }
   ],
   "source": [
    "dias= int(input('Insira a quantidade de dias com o veículo: '))\n",
    "km= int(input('Insira a quantidade de km rodados com o veículo: '))\n",
    "\n",
    "print(f'O valor a pagar é R${(60*dias):.2f} pelos dias e R${(0.15*km):.2f} pela kilometragem rodada.\\nTotal de R${((60*dias) + (0.15*km)):.2f}')"
   ]
  },
  {
   "cell_type": "markdown",
   "id": "c7dfca0a",
   "metadata": {},
   "source": [
    "# 15- Escreva um programa para calcular a redução do tempo de vida de um fumante"
   ]
  },
  {
   "cell_type": "markdown",
   "id": "f1f9621e",
   "metadata": {},
   "source": [
    "Escreva um programa para calcular a redução do tempo de vida de um fumante. Pergunte a quantidade de cigarros fumados por dia e quantos anos ele já fumou. Considere que um fumante perde 10 minutos de vida a cada cigarro, e calcule quantos dias de vida um fumante perderá. Exiba o total em dias."
   ]
  },
  {
   "cell_type": "code",
   "execution_count": 22,
   "id": "7dcc4359",
   "metadata": {},
   "outputs": [
    {
     "name": "stdout",
     "output_type": "stream",
     "text": [
      "Qual a média de cigarros fumados por dia? 10\n",
      "Há quantos anos você fuma? 5\n",
      "A quantidade de dias perdidos é de 126.74\n"
     ]
    }
   ],
   "source": [
    "cigarrosPorDia= int(input('Qual a média de cigarros fumados por dia? '))\n",
    "anos= float(input('Há quantos anos você fuma? '))\n",
    "\n",
    "minutosPerdidos= anos*365*cigarrosPorDia*10\n",
    "\n",
    "print(f'A quantidade de dias perdidos é de {((minutosPerdidos/60)/24):.2f}')"
   ]
  }
 ],
 "metadata": {
  "kernelspec": {
   "display_name": "Python 3",
   "language": "python",
   "name": "python3"
  },
  "language_info": {
   "codemirror_mode": {
    "name": "ipython",
    "version": 3
   },
   "file_extension": ".py",
   "mimetype": "text/x-python",
   "name": "python",
   "nbconvert_exporter": "python",
   "pygments_lexer": "ipython3",
   "version": "3.8.8"
  }
 },
 "nbformat": 4,
 "nbformat_minor": 5
}
