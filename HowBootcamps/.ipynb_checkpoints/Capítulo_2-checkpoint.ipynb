{
 "cells": [
  {
   "cell_type": "markdown",
   "id": "259464f9",
   "metadata": {},
   "source": [
    "# 1- Converta as seguintes expressões matemáticas para que possam ser calculadas usando o interpretador Python.\n",
    "10 + 20 × 30\n",
    "42 ÷ 30\n",
    "(94 + 2) × 6 - 1"
   ]
  },
  {
   "cell_type": "code",
   "execution_count": 1,
   "id": "b19669e6",
   "metadata": {},
   "outputs": [
    {
     "data": {
      "text/plain": [
       "610"
      ]
     },
     "execution_count": 1,
     "metadata": {},
     "output_type": "execute_result"
    }
   ],
   "source": [
    "10+20*30"
   ]
  },
  {
   "cell_type": "code",
   "execution_count": 2,
   "id": "4a2e7fb8",
   "metadata": {},
   "outputs": [
    {
     "data": {
      "text/plain": [
       "1.4"
      ]
     },
     "execution_count": 2,
     "metadata": {},
     "output_type": "execute_result"
    }
   ],
   "source": [
    "42/30\n"
   ]
  },
  {
   "cell_type": "code",
   "execution_count": 3,
   "id": "c63a72f3",
   "metadata": {
    "scrolled": true
   },
   "outputs": [
    {
     "data": {
      "text/plain": [
       "281.0"
      ]
     },
     "execution_count": 3,
     "metadata": {},
     "output_type": "execute_result"
    }
   ],
   "source": [
    "(94/2)*6-1"
   ]
  },
  {
   "cell_type": "markdown",
   "id": "c7ad7078",
   "metadata": {},
   "source": [
    "# 2- Fazer no papel"
   ]
  },
  {
   "cell_type": "markdown",
   "id": "1c45abaa",
   "metadata": {},
   "source": [
    "# 3- Faça um programa que exiba seu nome na tela."
   ]
  },
  {
   "cell_type": "code",
   "execution_count": 4,
   "id": "c6f0c209",
   "metadata": {},
   "outputs": [
    {
     "name": "stdout",
     "output_type": "stream",
     "text": [
      "Renan Duarte Pires\n"
     ]
    }
   ],
   "source": [
    "print('Renan Duarte Pires')"
   ]
  },
  {
   "cell_type": "markdown",
   "id": "adfc6254",
   "metadata": {},
   "source": [
    "# 4- Escreva um programa que exiba o resultado de 2a × 3b, em que a vale 3 e b vale 5."
   ]
  },
  {
   "cell_type": "code",
   "execution_count": 5,
   "id": "413cb20a",
   "metadata": {},
   "outputs": [
    {
     "name": "stdout",
     "output_type": "stream",
     "text": [
      "21\n"
     ]
    }
   ],
   "source": [
    "a= 3\n",
    "b= 5\n",
    "resultado= 2*a+3*b\n",
    "\n",
    "print(resultado)"
   ]
  },
  {
   "cell_type": "markdown",
   "id": "ba5dccca",
   "metadata": {},
   "source": [
    "# 5- Escreva um programa que calcule a soma de três variáveis e imprima o resultado na tela."
   ]
  },
  {
   "cell_type": "code",
   "execution_count": 6,
   "id": "e2592b12",
   "metadata": {},
   "outputs": [
    {
     "name": "stdout",
     "output_type": "stream",
     "text": [
      "6\n"
     ]
    }
   ],
   "source": [
    "a= 1\n",
    "b= 2\n",
    "c= 3\n",
    "resultado= a+b+c\n",
    "print(resultado)"
   ]
  },
  {
   "cell_type": "markdown",
   "id": "a23d0ed4",
   "metadata": {},
   "source": [
    "# 6- Modifique o Programa 2.2, de forma que ele calcule um aumento de 15% para um salário de RS 750."
   ]
  },
  {
   "cell_type": "code",
   "execution_count": 7,
   "id": "307cccfd",
   "metadata": {},
   "outputs": [
    {
     "name": "stdout",
     "output_type": "stream",
     "text": [
      "862.4999999999999\n"
     ]
    }
   ],
   "source": [
    "salario= 750\n",
    "aumento= 15/100\n",
    "aumentoSalario= salario*(1+aumento)\n",
    "print(aumentoSalario)"
   ]
  },
  {
   "cell_type": "code",
   "execution_count": null,
   "id": "6e202f1b",
   "metadata": {},
   "outputs": [],
   "source": []
  }
 ],
 "metadata": {
  "kernelspec": {
   "display_name": "Python 3",
   "language": "python",
   "name": "python3"
  },
  "language_info": {
   "codemirror_mode": {
    "name": "ipython",
    "version": 3
   },
   "file_extension": ".py",
   "mimetype": "text/x-python",
   "name": "python",
   "nbconvert_exporter": "python",
   "pygments_lexer": "ipython3",
   "version": "3.8.8"
  }
 },
 "nbformat": 4,
 "nbformat_minor": 5
}
